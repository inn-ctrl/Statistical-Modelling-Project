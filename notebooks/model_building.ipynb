{
 "cells": [
  {
   "cell_type": "markdown",
   "metadata": {},
   "source": [
    "Build a regression model."
   ]
  },
  {
   "cell_type": "code",
   "execution_count": 12,
   "metadata": {},
   "outputs": [],
   "source": [
    "import pandas as pd\n",
    "import matplotlib.pyplot as pl\n",
    "import numpy as np\n",
    "from sklearn.linear_model import LinearRegression\n",
    "import statsmodels.api as sm"
   ]
  },
  {
   "cell_type": "code",
   "execution_count": 29,
   "metadata": {},
   "outputs": [
    {
     "data": {
      "text/plain": [
       "0.9774541690203772"
      ]
     },
     "execution_count": 29,
     "metadata": {},
     "output_type": "execute_result"
    }
   ],
   "source": [
    "#import dataset\n",
    "data = pd.read_excel('data_model.xlsx', sheet_name= 'data_model', engine = 'openpyxl')\n",
    "data\n",
    "#prepare data for linear regression by separating dependent variable and independent variables: we \n",
    "#want to predict the stations choice based restaurant performance/perception\n",
    "X = data[['review_count']]\n",
    "y = data[[ 'empty_slots', 'free_bikes']]\n",
    "#training the model and evaluating its performance: we use fit method and evaluate its performance \n",
    "model = LinearRegression().fit(X, y)\n",
    "#using score method, which returns the r-squared value\n",
    "#model.fit(x, y)\n"
   ]
  },
  {
   "cell_type": "markdown",
   "metadata": {},
   "source": [
    "Provide model output and an interpretation of the results. "
   ]
  },
  {
   "cell_type": "code",
   "execution_count": 16,
   "metadata": {},
   "outputs": [
    {
     "data": {
      "text/html": [
       "<div>\n",
       "<style scoped>\n",
       "    .dataframe tbody tr th:only-of-type {\n",
       "        vertical-align: middle;\n",
       "    }\n",
       "\n",
       "    .dataframe tbody tr th {\n",
       "        vertical-align: top;\n",
       "    }\n",
       "\n",
       "    .dataframe thead th {\n",
       "        text-align: right;\n",
       "    }\n",
       "</style>\n",
       "<table border=\"1\" class=\"dataframe\">\n",
       "  <thead>\n",
       "    <tr style=\"text-align: right;\">\n",
       "      <th></th>\n",
       "      <th>Unnamed: 0</th>\n",
       "      <th>resto_name</th>\n",
       "      <th>review_count</th>\n",
       "      <th>rating</th>\n",
       "      <th>empty_slots</th>\n",
       "      <th>free_bikes</th>\n",
       "    </tr>\n",
       "  </thead>\n",
       "  <tbody>\n",
       "    <tr>\n",
       "      <th>0</th>\n",
       "      <td>0</td>\n",
       "      <td>Blacklock</td>\n",
       "      <td>118500</td>\n",
       "      <td>4.60</td>\n",
       "      <td>10030</td>\n",
       "      <td>9930</td>\n",
       "    </tr>\n",
       "    <tr>\n",
       "      <th>1</th>\n",
       "      <td>1</td>\n",
       "      <td>Burger &amp; Lobster</td>\n",
       "      <td>90060</td>\n",
       "      <td>4.50</td>\n",
       "      <td>10030</td>\n",
       "      <td>9930</td>\n",
       "    </tr>\n",
       "    <tr>\n",
       "      <th>2</th>\n",
       "      <td>2</td>\n",
       "      <td>Dinner by Heston Blumenthal</td>\n",
       "      <td>246480</td>\n",
       "      <td>4.40</td>\n",
       "      <td>10030</td>\n",
       "      <td>9930</td>\n",
       "    </tr>\n",
       "    <tr>\n",
       "      <th>3</th>\n",
       "      <td>3</td>\n",
       "      <td>Dishoom</td>\n",
       "      <td>2595150</td>\n",
       "      <td>4.55</td>\n",
       "      <td>20060</td>\n",
       "      <td>19860</td>\n",
       "    </tr>\n",
       "    <tr>\n",
       "      <th>4</th>\n",
       "      <td>4</td>\n",
       "      <td>Flat Iron</td>\n",
       "      <td>379200</td>\n",
       "      <td>4.50</td>\n",
       "      <td>10030</td>\n",
       "      <td>9930</td>\n",
       "    </tr>\n",
       "    <tr>\n",
       "      <th>5</th>\n",
       "      <td>5</td>\n",
       "      <td>Hawksmoor Seven Dials</td>\n",
       "      <td>314420</td>\n",
       "      <td>4.40</td>\n",
       "      <td>10030</td>\n",
       "      <td>9930</td>\n",
       "    </tr>\n",
       "    <tr>\n",
       "      <th>6</th>\n",
       "      <td>6</td>\n",
       "      <td>Petrus</td>\n",
       "      <td>106650</td>\n",
       "      <td>4.40</td>\n",
       "      <td>10030</td>\n",
       "      <td>9930</td>\n",
       "    </tr>\n",
       "    <tr>\n",
       "      <th>7</th>\n",
       "      <td>7</td>\n",
       "      <td>The Ledbury</td>\n",
       "      <td>136670</td>\n",
       "      <td>4.60</td>\n",
       "      <td>10030</td>\n",
       "      <td>9930</td>\n",
       "    </tr>\n",
       "    <tr>\n",
       "      <th>8</th>\n",
       "      <td>8</td>\n",
       "      <td>The Mayfair Chippy</td>\n",
       "      <td>402900</td>\n",
       "      <td>4.50</td>\n",
       "      <td>10030</td>\n",
       "      <td>9930</td>\n",
       "    </tr>\n",
       "  </tbody>\n",
       "</table>\n",
       "</div>"
      ],
      "text/plain": [
       "   Unnamed: 0                   resto_name  review_count  rating  empty_slots  \\\n",
       "0           0                    Blacklock        118500    4.60        10030   \n",
       "1           1             Burger & Lobster         90060    4.50        10030   \n",
       "2           2  Dinner by Heston Blumenthal        246480    4.40        10030   \n",
       "3           3                      Dishoom       2595150    4.55        20060   \n",
       "4           4                    Flat Iron        379200    4.50        10030   \n",
       "5           5        Hawksmoor Seven Dials        314420    4.40        10030   \n",
       "6           6                       Petrus        106650    4.40        10030   \n",
       "7           7                  The Ledbury        136670    4.60        10030   \n",
       "8           8           The Mayfair Chippy        402900    4.50        10030   \n",
       "\n",
       "   free_bikes  \n",
       "0        9930  \n",
       "1        9930  \n",
       "2        9930  \n",
       "3       19860  \n",
       "4        9930  \n",
       "5        9930  \n",
       "6        9930  \n",
       "7        9930  \n",
       "8        9930  "
      ]
     },
     "execution_count": 16,
     "metadata": {},
     "output_type": "execute_result"
    }
   ],
   "source": [
    "#studing the model output\n",
    "result = model.score(X, y)\n",
    "result \n",
    "#result = 0.6675559949626377 shows the coefficent of determination that need improvement. this must \n",
    "#be due to presence of 'rating' in the dependent variables because when we remove it, all of a sudden\n",
    "#the value goes to 0.9774541690203772; indicating a high relationship between independent variables \n",
    "#and dependent variables\n",
    "\n",
    "#interpretation\n",
    "#outcome: how does restaurant performance/perception affect nearby bike stations?\n",
    "#from the above , we can conclude that bike slots usage is highly affected by nearby resaurants \n",
    "#performance/perception"
   ]
  },
  {
   "cell_type": "markdown",
   "metadata": {},
   "source": [
    "# Stretch"
   ]
  },
  {
   "cell_type": "markdown",
   "metadata": {},
   "source": [
    "How can you turn the regression model into a classification model?"
   ]
  },
  {
   "cell_type": "code",
   "execution_count": null,
   "metadata": {},
   "outputs": [],
   "source": [
    "#While a regression model works on numberic data, the classification model works with categorical data. \n",
    "# Therefore, in order to turn the above regression model; I will need to turn my continous data into \n",
    "#some for of categorical data\n",
    "\n",
    "e.g: \n",
    "#rating: 0 (poor) or 1 (good)\n",
    "#empty_slots: N (near), A (around), F(far)\n"
   ]
  }
 ],
 "metadata": {
  "kernelspec": {
   "display_name": "Python 3 (ipykernel)",
   "language": "python",
   "name": "python3"
  },
  "language_info": {
   "codemirror_mode": {
    "name": "ipython",
    "version": 3
   },
   "file_extension": ".py",
   "mimetype": "text/x-python",
   "name": "python",
   "nbconvert_exporter": "python",
   "pygments_lexer": "ipython3",
   "version": "3.11.7"
  }
 },
 "nbformat": 4,
 "nbformat_minor": 4
}
