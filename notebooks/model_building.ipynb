{
 "cells": [
  {
   "cell_type": "markdown",
   "metadata": {},
   "source": [
    "Build a regression model."
   ]
  },
  {
   "cell_type": "code",
   "execution_count": 1,
   "metadata": {},
   "outputs": [],
   "source": [
    "import pandas as pd\n",
    "import matplotlib.pyplot as pl\n",
    "import numpy as np\n",
    "from sklearn.linear_model import LinearRegression\n",
    "import statsmodels.api as sm"
   ]
  },
  {
   "cell_type": "code",
   "execution_count": 36,
   "metadata": {},
   "outputs": [
    {
     "data": {
      "text/html": [
       "<div>\n",
       "<style scoped>\n",
       "    .dataframe tbody tr th:only-of-type {\n",
       "        vertical-align: middle;\n",
       "    }\n",
       "\n",
       "    .dataframe tbody tr th {\n",
       "        vertical-align: top;\n",
       "    }\n",
       "\n",
       "    .dataframe thead th {\n",
       "        text-align: right;\n",
       "    }\n",
       "</style>\n",
       "<table border=\"1\" class=\"dataframe\">\n",
       "  <thead>\n",
       "    <tr style=\"text-align: right;\">\n",
       "      <th></th>\n",
       "      <th>Unnamed: 0</th>\n",
       "      <th>resto_name</th>\n",
       "      <th>review_count</th>\n",
       "      <th>rating</th>\n",
       "      <th>empty_slots</th>\n",
       "      <th>free_bikes</th>\n",
       "      <th>rate_percent</th>\n",
       "      <th>performance</th>\n",
       "    </tr>\n",
       "  </thead>\n",
       "  <tbody>\n",
       "    <tr>\n",
       "      <th>0</th>\n",
       "      <td>0</td>\n",
       "      <td>Blacklock</td>\n",
       "      <td>150.0</td>\n",
       "      <td>4.60</td>\n",
       "      <td>11016</td>\n",
       "      <td>8963</td>\n",
       "      <td>92.0</td>\n",
       "      <td>6900.00</td>\n",
       "    </tr>\n",
       "    <tr>\n",
       "      <th>1</th>\n",
       "      <td>1</td>\n",
       "      <td>Burger &amp; Lobster</td>\n",
       "      <td>114.0</td>\n",
       "      <td>4.50</td>\n",
       "      <td>11016</td>\n",
       "      <td>8963</td>\n",
       "      <td>90.0</td>\n",
       "      <td>5130.00</td>\n",
       "    </tr>\n",
       "    <tr>\n",
       "      <th>2</th>\n",
       "      <td>2</td>\n",
       "      <td>Dinner by Heston Blumenthal</td>\n",
       "      <td>312.0</td>\n",
       "      <td>4.40</td>\n",
       "      <td>11016</td>\n",
       "      <td>8963</td>\n",
       "      <td>88.0</td>\n",
       "      <td>13728.00</td>\n",
       "    </tr>\n",
       "    <tr>\n",
       "      <th>3</th>\n",
       "      <td>3</td>\n",
       "      <td>Dishoom</td>\n",
       "      <td>1642.5</td>\n",
       "      <td>4.55</td>\n",
       "      <td>22032</td>\n",
       "      <td>17926</td>\n",
       "      <td>91.0</td>\n",
       "      <td>74733.75</td>\n",
       "    </tr>\n",
       "    <tr>\n",
       "      <th>4</th>\n",
       "      <td>4</td>\n",
       "      <td>Flat Iron</td>\n",
       "      <td>480.0</td>\n",
       "      <td>4.50</td>\n",
       "      <td>11016</td>\n",
       "      <td>8963</td>\n",
       "      <td>90.0</td>\n",
       "      <td>21600.00</td>\n",
       "    </tr>\n",
       "    <tr>\n",
       "      <th>5</th>\n",
       "      <td>5</td>\n",
       "      <td>Hawksmoor Seven Dials</td>\n",
       "      <td>398.0</td>\n",
       "      <td>4.40</td>\n",
       "      <td>11016</td>\n",
       "      <td>8963</td>\n",
       "      <td>88.0</td>\n",
       "      <td>17512.00</td>\n",
       "    </tr>\n",
       "    <tr>\n",
       "      <th>6</th>\n",
       "      <td>6</td>\n",
       "      <td>Petrus</td>\n",
       "      <td>135.0</td>\n",
       "      <td>4.40</td>\n",
       "      <td>11016</td>\n",
       "      <td>8963</td>\n",
       "      <td>88.0</td>\n",
       "      <td>5940.00</td>\n",
       "    </tr>\n",
       "    <tr>\n",
       "      <th>7</th>\n",
       "      <td>7</td>\n",
       "      <td>The Ledbury</td>\n",
       "      <td>173.0</td>\n",
       "      <td>4.60</td>\n",
       "      <td>11016</td>\n",
       "      <td>8963</td>\n",
       "      <td>92.0</td>\n",
       "      <td>7958.00</td>\n",
       "    </tr>\n",
       "    <tr>\n",
       "      <th>8</th>\n",
       "      <td>8</td>\n",
       "      <td>The Mayfair Chippy</td>\n",
       "      <td>510.0</td>\n",
       "      <td>4.50</td>\n",
       "      <td>11016</td>\n",
       "      <td>8963</td>\n",
       "      <td>90.0</td>\n",
       "      <td>22950.00</td>\n",
       "    </tr>\n",
       "  </tbody>\n",
       "</table>\n",
       "</div>"
      ],
      "text/plain": [
       "   Unnamed: 0                   resto_name  review_count  rating  empty_slots  \\\n",
       "0           0                    Blacklock         150.0    4.60        11016   \n",
       "1           1             Burger & Lobster         114.0    4.50        11016   \n",
       "2           2  Dinner by Heston Blumenthal         312.0    4.40        11016   \n",
       "3           3                      Dishoom        1642.5    4.55        22032   \n",
       "4           4                    Flat Iron         480.0    4.50        11016   \n",
       "5           5        Hawksmoor Seven Dials         398.0    4.40        11016   \n",
       "6           6                       Petrus         135.0    4.40        11016   \n",
       "7           7                  The Ledbury         173.0    4.60        11016   \n",
       "8           8           The Mayfair Chippy         510.0    4.50        11016   \n",
       "\n",
       "   free_bikes  rate_percent  performance  \n",
       "0        8963          92.0      6900.00  \n",
       "1        8963          90.0      5130.00  \n",
       "2        8963          88.0     13728.00  \n",
       "3       17926          91.0     74733.75  \n",
       "4        8963          90.0     21600.00  \n",
       "5        8963          88.0     17512.00  \n",
       "6        8963          88.0      5940.00  \n",
       "7        8963          92.0      7958.00  \n",
       "8        8963          90.0     22950.00  "
      ]
     },
     "execution_count": 36,
     "metadata": {},
     "output_type": "execute_result"
    }
   ],
   "source": [
    "#import dataset\n",
    "data = pd.read_excel('files/unique_resto.xlsx', sheet_name= 'unique_resto', engine = 'openpyxl')\n",
    "data\n"
   ]
  },
  {
   "cell_type": "markdown",
   "metadata": {},
   "source": [
    "Provide model output and an interpretation of the results. "
   ]
  },
  {
   "cell_type": "code",
   "execution_count": null,
   "metadata": {},
   "outputs": [],
   "source": [
    "#In this question, I want to discover the overall impact the number of bikes have on both empty slots and restaurant performance. So, will use \n",
    "#linear regresssion to explain both cases. if I can find the value of r-square, I will use that to see which varable as the closest varaince to free_bikes\n",
    "#r-square value is enough because I am only interested in finding relationship between variables which I might use to provide more insights"
   ]
  },
  {
   "cell_type": "code",
   "execution_count": 23,
   "metadata": {},
   "outputs": [],
   "source": [
    "#free_bikes and performance\n",
    "X = data[['free_bikes']]\n",
    "y = data['performance']\n",
    "#training the model and evaluating its performance: we use fit method and evaluate its performance \n",
    "model = LinearRegression().fit(X, y)\n",
    "result = model.score(X, y) # result = 0.9029175514495527"
   ]
  },
  {
   "cell_type": "code",
   "execution_count": 28,
   "metadata": {},
   "outputs": [],
   "source": [
    "#free_bikes and review_counts\n",
    "X = data[['free_bikes']]\n",
    "y = data['review_count']\n",
    "#training the model and evaluating its performance: we use fit method and evaluate its performance \n",
    "model = LinearRegression().fit(X, y)\n",
    "result = model.score(X, y) # result = 0.8988282498970537"
   ]
  },
  {
   "cell_type": "code",
   "execution_count": 31,
   "metadata": {},
   "outputs": [],
   "source": [
    "#free_bikes and review_counts\n",
    "X = data[['free_bikes']]\n",
    "y = data['empty_slots']\n",
    "#training the model and evaluating its performance: we use fit method and evaluate its performance \n",
    "model = LinearRegression().fit(X, y)\n",
    "result = model.score(X, y) # result = 1.0"
   ]
  },
  {
   "cell_type": "markdown",
   "metadata": {},
   "source": [
    "\n",
    "\n",
    "In the model, I only used found r-square value because I wanted to see the impact number of bikes have on various factors. fristly, number of bikes and \n",
    "performance of nearby performance shows strong relationship. This shows that the restaurants performance are highly affected by being in locations where there\n",
    "are more bikes in the bikes stations. Confirm this I also looked at review counts as a separate value (since performance takes reviews and ratings into account)\n",
    "but the result seem to be not so different considering that ratings was ommmitted. So, that changed nothing. \n",
    "\n",
    "Secondly, the number of bikes and empty slots shows a strong relationship. This shows that the two factors are very important and inf restaurants could reverage them\n",
    "(perhaps operate in areas with many bike slots and free bikes) that would improve their performance as well. (Why does it have an impact on the performance? Well, \n",
    "because in the first value we found a strong relationship between the free bikes and restaurant performance)\n",
    "\n",
    "In short  we can conclude that the number of bikes highly impact bike slots and hence the perfromance of nearby resaurants in london. \n",
    "#performance/perception"
   ]
  },
  {
   "cell_type": "markdown",
   "metadata": {},
   "source": [
    "# Stretch"
   ]
  },
  {
   "cell_type": "markdown",
   "metadata": {},
   "source": [
    "How can you turn the regression model into a classification model?"
   ]
  },
  {
   "cell_type": "code",
   "execution_count": null,
   "metadata": {},
   "outputs": [],
   "source": [
    "#While a regression model works on numberic data, the classification model works with categorical data. \n",
    "# Therefore, in order to turn the above regression model; I will need to turn my continous data into \n",
    "#some for of categorical data\n",
    "\n",
    "e.g: \n",
    "#rating: 0 (poor) or 1 (good)\n",
    "#empty_slots: N (near), A (around), F(far)\n"
   ]
  }
 ],
 "metadata": {
  "kernelspec": {
   "display_name": "Python 3 (ipykernel)",
   "language": "python",
   "name": "python3"
  },
  "language_info": {
   "codemirror_mode": {
    "name": "ipython",
    "version": 3
   },
   "file_extension": ".py",
   "mimetype": "text/x-python",
   "name": "python",
   "nbconvert_exporter": "python",
   "pygments_lexer": "ipython3",
   "version": "3.11.7"
  }
 },
 "nbformat": 4,
 "nbformat_minor": 4
}
