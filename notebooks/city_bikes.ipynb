{
 "cells": [
  {
   "cell_type": "markdown",
   "metadata": {},
   "source": [
    "# CityBikes"
   ]
  },
  {
   "cell_type": "markdown",
   "metadata": {},
   "source": [
    "Send a request to CityBikes for the city of your choice. "
   ]
  },
  {
   "cell_type": "code",
   "execution_count": 19,
   "metadata": {},
   "outputs": [],
   "source": [
    "import pandas as pd\n",
    "import requests\n",
    "import os"
   ]
  },
  {
   "cell_type": "markdown",
   "metadata": {},
   "source": [
    "Parse through the response to get the details you want for the bike stations in that city (latitude, longitude, number of bikes). "
   ]
  },
  {
   "cell_type": "code",
   "execution_count": null,
   "metadata": {},
   "outputs": [],
   "source": []
  },
  {
   "cell_type": "code",
   "execution_count": 20,
   "metadata": {},
   "outputs": [],
   "source": [
    "#i need to know the bikestations in the city and the number of bikes\n",
    "city_bikes = requests.get('http://api.citybik.es/v2/networks/santander-cycles')\n"
   ]
  },
  {
   "cell_type": "code",
   "execution_count": 21,
   "metadata": {},
   "outputs": [],
   "source": [
    "#for easy manupulation, change mydata to a dictionary\n",
    "todict= json.loads(city_bikes.text)"
   ]
  },
  {
   "cell_type": "code",
   "execution_count": 23,
   "metadata": {},
   "outputs": [],
   "source": [
    "\n",
    "#I extract only the stations info about 'london' since I used london 'ID' \n",
    "stations = todict['network']['stations']"
   ]
  },
  {
   "cell_type": "markdown",
   "metadata": {},
   "source": [
    "Put your parsed results into a DataFrame."
   ]
  },
  {
   "cell_type": "code",
   "execution_count": 24,
   "metadata": {},
   "outputs": [
    {
     "data": {
      "text/html": [
       "<div>\n",
       "<style scoped>\n",
       "    .dataframe tbody tr th:only-of-type {\n",
       "        vertical-align: middle;\n",
       "    }\n",
       "\n",
       "    .dataframe tbody tr th {\n",
       "        vertical-align: top;\n",
       "    }\n",
       "\n",
       "    .dataframe thead th {\n",
       "        text-align: right;\n",
       "    }\n",
       "</style>\n",
       "<table border=\"1\" class=\"dataframe\">\n",
       "  <thead>\n",
       "    <tr style=\"text-align: right;\">\n",
       "      <th></th>\n",
       "      <th>empty_slots</th>\n",
       "      <th>extra</th>\n",
       "      <th>free_bikes</th>\n",
       "      <th>id</th>\n",
       "      <th>latitude</th>\n",
       "      <th>longitude</th>\n",
       "      <th>name</th>\n",
       "      <th>timestamp</th>\n",
       "    </tr>\n",
       "  </thead>\n",
       "  <tbody>\n",
       "    <tr>\n",
       "      <th>0</th>\n",
       "      <td>11</td>\n",
       "      <td>{'installDate': '1278947280000', 'installed': ...</td>\n",
       "      <td>8</td>\n",
       "      <td>7f3020118e56165ed8b2f61899edb971</td>\n",
       "      <td>51.529163</td>\n",
       "      <td>-0.109971</td>\n",
       "      <td>001023 - River Street , Clerkenwell</td>\n",
       "      <td>2024-05-13T01:19:03.299000Z</td>\n",
       "    </tr>\n",
       "    <tr>\n",
       "      <th>1</th>\n",
       "      <td>20</td>\n",
       "      <td>{'installDate': '1278585780000', 'installed': ...</td>\n",
       "      <td>17</td>\n",
       "      <td>67e6c16bce05410ba4b1f0f5000726ea</td>\n",
       "      <td>51.499607</td>\n",
       "      <td>-0.197574</td>\n",
       "      <td>001018 - Phillimore Gardens, Kensington</td>\n",
       "      <td>2024-05-13T01:19:03.310000Z</td>\n",
       "    </tr>\n",
       "    <tr>\n",
       "      <th>2</th>\n",
       "      <td>15</td>\n",
       "      <td>{'installDate': '1278242460000', 'installed': ...</td>\n",
       "      <td>2</td>\n",
       "      <td>26184215d38089fcad213ef222e69780</td>\n",
       "      <td>51.505974</td>\n",
       "      <td>-0.092754</td>\n",
       "      <td>001024 - Park Street, Bankside</td>\n",
       "      <td>2024-05-13T01:19:03.324000Z</td>\n",
       "    </tr>\n",
       "    <tr>\n",
       "      <th>3</th>\n",
       "      <td>16</td>\n",
       "      <td>{'installDate': '1278340440000', 'installed': ...</td>\n",
       "      <td>7</td>\n",
       "      <td>1eabd7ac8e781befd03f52ef56a18aa7</td>\n",
       "      <td>51.523951</td>\n",
       "      <td>-0.122502</td>\n",
       "      <td>001022 - Brunswick Square, Bloomsbury</td>\n",
       "      <td>2024-05-13T01:19:03.325000Z</td>\n",
       "    </tr>\n",
       "    <tr>\n",
       "      <th>4</th>\n",
       "      <td>44</td>\n",
       "      <td>{'installDate': '1278340620000', 'installed': ...</td>\n",
       "      <td>2</td>\n",
       "      <td>23efb32f80a9dcd0e4f61fb44b353ce1</td>\n",
       "      <td>51.521681</td>\n",
       "      <td>-0.130432</td>\n",
       "      <td>000980 - Malet Street, Bloomsbury</td>\n",
       "      <td>2024-05-13T01:19:03.328000Z</td>\n",
       "    </tr>\n",
       "    <tr>\n",
       "      <th>...</th>\n",
       "      <td>...</td>\n",
       "      <td>...</td>\n",
       "      <td>...</td>\n",
       "      <td>...</td>\n",
       "      <td>...</td>\n",
       "      <td>...</td>\n",
       "      <td>...</td>\n",
       "      <td>...</td>\n",
       "    </tr>\n",
       "    <tr>\n",
       "      <th>787</th>\n",
       "      <td>16</td>\n",
       "      <td>{'installDate': '1279885320000', 'installed': ...</td>\n",
       "      <td>2</td>\n",
       "      <td>2db775eff9ba5222e5c53580d025782b</td>\n",
       "      <td>51.510048</td>\n",
       "      <td>-0.138846</td>\n",
       "      <td>001197 - Sackville Street, Mayfair</td>\n",
       "      <td>2024-05-13T01:19:04.168000Z</td>\n",
       "    </tr>\n",
       "    <tr>\n",
       "      <th>788</th>\n",
       "      <td>19</td>\n",
       "      <td>{'installDate': '1384968480000', 'installed': ...</td>\n",
       "      <td>15</td>\n",
       "      <td>8ecc337dd1950c019e8d01e27c886e23</td>\n",
       "      <td>51.536425</td>\n",
       "      <td>-0.054162</td>\n",
       "      <td>300011 - Victoria Park Road, Hackney Central</td>\n",
       "      <td>2024-05-13T01:19:04.979000Z</td>\n",
       "    </tr>\n",
       "    <tr>\n",
       "      <th>789</th>\n",
       "      <td>16</td>\n",
       "      <td>{'installDate': '1296125400000', 'installed': ...</td>\n",
       "      <td>5</td>\n",
       "      <td>4199b8128833a99369bc72178ed8721b</td>\n",
       "      <td>51.506864</td>\n",
       "      <td>-0.150667</td>\n",
       "      <td>003506 - Stanhope Gate, Mayfair</td>\n",
       "      <td>2024-05-13T01:19:04.288000Z</td>\n",
       "    </tr>\n",
       "    <tr>\n",
       "      <th>790</th>\n",
       "      <td>17</td>\n",
       "      <td>{'installDate': '1279291500000', 'installed': ...</td>\n",
       "      <td>2</td>\n",
       "      <td>51acbe456158a598628a833232e6e2a2</td>\n",
       "      <td>51.491212</td>\n",
       "      <td>-0.173716</td>\n",
       "      <td>001124 - Sumner Place, South Kensington</td>\n",
       "      <td>2024-05-13T01:19:03.773000Z</td>\n",
       "    </tr>\n",
       "    <tr>\n",
       "      <th>791</th>\n",
       "      <td>18</td>\n",
       "      <td>{'installDate': '1279205220000', 'installed': ...</td>\n",
       "      <td>1</td>\n",
       "      <td>875b49fd8018996a5f1840b6322d951b</td>\n",
       "      <td>51.512276</td>\n",
       "      <td>-0.157437</td>\n",
       "      <td>003464 - Green Street, Mayfair</td>\n",
       "      <td>2024-05-13T01:19:03.681000Z</td>\n",
       "    </tr>\n",
       "  </tbody>\n",
       "</table>\n",
       "<p>792 rows × 8 columns</p>\n",
       "</div>"
      ],
      "text/plain": [
       "     empty_slots                                              extra  \\\n",
       "0             11  {'installDate': '1278947280000', 'installed': ...   \n",
       "1             20  {'installDate': '1278585780000', 'installed': ...   \n",
       "2             15  {'installDate': '1278242460000', 'installed': ...   \n",
       "3             16  {'installDate': '1278340440000', 'installed': ...   \n",
       "4             44  {'installDate': '1278340620000', 'installed': ...   \n",
       "..           ...                                                ...   \n",
       "787           16  {'installDate': '1279885320000', 'installed': ...   \n",
       "788           19  {'installDate': '1384968480000', 'installed': ...   \n",
       "789           16  {'installDate': '1296125400000', 'installed': ...   \n",
       "790           17  {'installDate': '1279291500000', 'installed': ...   \n",
       "791           18  {'installDate': '1279205220000', 'installed': ...   \n",
       "\n",
       "     free_bikes                                id   latitude  longitude  \\\n",
       "0             8  7f3020118e56165ed8b2f61899edb971  51.529163  -0.109971   \n",
       "1            17  67e6c16bce05410ba4b1f0f5000726ea  51.499607  -0.197574   \n",
       "2             2  26184215d38089fcad213ef222e69780  51.505974  -0.092754   \n",
       "3             7  1eabd7ac8e781befd03f52ef56a18aa7  51.523951  -0.122502   \n",
       "4             2  23efb32f80a9dcd0e4f61fb44b353ce1  51.521681  -0.130432   \n",
       "..          ...                               ...        ...        ...   \n",
       "787           2  2db775eff9ba5222e5c53580d025782b  51.510048  -0.138846   \n",
       "788          15  8ecc337dd1950c019e8d01e27c886e23  51.536425  -0.054162   \n",
       "789           5  4199b8128833a99369bc72178ed8721b  51.506864  -0.150667   \n",
       "790           2  51acbe456158a598628a833232e6e2a2  51.491212  -0.173716   \n",
       "791           1  875b49fd8018996a5f1840b6322d951b  51.512276  -0.157437   \n",
       "\n",
       "                                             name                    timestamp  \n",
       "0             001023 - River Street , Clerkenwell  2024-05-13T01:19:03.299000Z  \n",
       "1         001018 - Phillimore Gardens, Kensington  2024-05-13T01:19:03.310000Z  \n",
       "2                  001024 - Park Street, Bankside  2024-05-13T01:19:03.324000Z  \n",
       "3           001022 - Brunswick Square, Bloomsbury  2024-05-13T01:19:03.325000Z  \n",
       "4               000980 - Malet Street, Bloomsbury  2024-05-13T01:19:03.328000Z  \n",
       "..                                            ...                          ...  \n",
       "787            001197 - Sackville Street, Mayfair  2024-05-13T01:19:04.168000Z  \n",
       "788  300011 - Victoria Park Road, Hackney Central  2024-05-13T01:19:04.979000Z  \n",
       "789               003506 - Stanhope Gate, Mayfair  2024-05-13T01:19:04.288000Z  \n",
       "790       001124 - Sumner Place, South Kensington  2024-05-13T01:19:03.773000Z  \n",
       "791                003464 - Green Street, Mayfair  2024-05-13T01:19:03.681000Z  \n",
       "\n",
       "[792 rows x 8 columns]"
      ]
     },
     "execution_count": 24,
     "metadata": {},
     "output_type": "execute_result"
    }
   ],
   "source": [
    "stations\n",
    "stationbikes = pd.DataFrame(stations)\n",
    "stationbikes"
   ]
  },
  {
   "cell_type": "code",
   "execution_count": 25,
   "metadata": {},
   "outputs": [
    {
     "name": "stdout",
     "output_type": "stream",
     "text": [
      "<class 'pandas.core.frame.DataFrame'>\n",
      "RangeIndex: 792 entries, 0 to 791\n",
      "Data columns (total 8 columns):\n",
      " #   Column       Non-Null Count  Dtype  \n",
      "---  ------       --------------  -----  \n",
      " 0   empty_slots  792 non-null    int64  \n",
      " 1   extra        792 non-null    object \n",
      " 2   free_bikes   792 non-null    int64  \n",
      " 3   id           792 non-null    object \n",
      " 4   latitude     792 non-null    float64\n",
      " 5   longitude    792 non-null    float64\n",
      " 6   name         792 non-null    object \n",
      " 7   timestamp    792 non-null    object \n",
      "dtypes: float64(2), int64(2), object(4)\n",
      "memory usage: 49.6+ KB\n"
     ]
    }
   ],
   "source": [
    "stationbikes.info() #we don't have any incomplete values in our data\n",
    "#for future use, I will export stationbikes as excel\n"
   ]
  },
  {
   "cell_type": "code",
   "execution_count": null,
   "metadata": {},
   "outputs": [],
   "source": []
  },
  {
   "cell_type": "code",
   "execution_count": null,
   "metadata": {},
   "outputs": [],
   "source": []
  },
  {
   "cell_type": "code",
   "execution_count": null,
   "metadata": {},
   "outputs": [],
   "source": []
  }
 ],
 "metadata": {
  "kernelspec": {
   "display_name": "Python 3 (ipykernel)",
   "language": "python",
   "name": "python3"
  },
  "language_info": {
   "codemirror_mode": {
    "name": "ipython",
    "version": 3
   },
   "file_extension": ".py",
   "mimetype": "text/x-python",
   "name": "python",
   "nbconvert_exporter": "python",
   "pygments_lexer": "ipython3",
   "version": "3.11.7"
  }
 },
 "nbformat": 4,
 "nbformat_minor": 4
}
