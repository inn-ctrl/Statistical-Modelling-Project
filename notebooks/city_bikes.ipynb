{
 "cells": [
  {
   "cell_type": "markdown",
   "metadata": {},
   "source": [
    "# CityBikes"
   ]
  },
  {
   "cell_type": "markdown",
   "metadata": {},
   "source": [
    "Send a request to CityBikes for the city of your choice. "
   ]
  },
  {
   "cell_type": "code",
   "execution_count": 86,
   "metadata": {},
   "outputs": [],
   "source": [
    "import pandas as pd\n",
    "import requests"
   ]
  },
  {
   "cell_type": "markdown",
   "metadata": {},
   "source": [
    "Parse through the response to get the details you want for the bike stations in that city (latitude, longitude, number of bikes). "
   ]
  },
  {
   "cell_type": "code",
   "execution_count": 87,
   "metadata": {},
   "outputs": [],
   "source": [
    "#i need to know the bikestations in the city and the number of bikes\n",
    "id = 'santander-cycles'\n",
    "mydata = requests.get('http://api.citybik.es/v2/networks/'+id)\n"
   ]
  },
  {
   "cell_type": "code",
   "execution_count": 88,
   "metadata": {},
   "outputs": [],
   "source": [
    "#for easy manupulation, change mydata to a dictionary\n",
    "todict= json.loads(mydata.text)\n"
   ]
  },
  {
   "cell_type": "code",
   "execution_count": 89,
   "metadata": {},
   "outputs": [],
   "source": [
    "\n",
    "#I extract only the stations info about 'london' since I used london 'ID' \n",
    "stations = todict['network']['stations']"
   ]
  },
  {
   "cell_type": "markdown",
   "metadata": {},
   "source": [
    "Put your parsed results into a DataFrame."
   ]
  },
  {
   "cell_type": "code",
   "execution_count": 90,
   "metadata": {},
   "outputs": [
    {
     "data": {
      "text/html": [
       "<div>\n",
       "<style scoped>\n",
       "    .dataframe tbody tr th:only-of-type {\n",
       "        vertical-align: middle;\n",
       "    }\n",
       "\n",
       "    .dataframe tbody tr th {\n",
       "        vertical-align: top;\n",
       "    }\n",
       "\n",
       "    .dataframe thead th {\n",
       "        text-align: right;\n",
       "    }\n",
       "</style>\n",
       "<table border=\"1\" class=\"dataframe\">\n",
       "  <thead>\n",
       "    <tr style=\"text-align: right;\">\n",
       "      <th></th>\n",
       "      <th>empty_slots</th>\n",
       "      <th>extra</th>\n",
       "      <th>free_bikes</th>\n",
       "      <th>id</th>\n",
       "      <th>latitude</th>\n",
       "      <th>longitude</th>\n",
       "      <th>name</th>\n",
       "      <th>timestamp</th>\n",
       "    </tr>\n",
       "  </thead>\n",
       "  <tbody>\n",
       "    <tr>\n",
       "      <th>0</th>\n",
       "      <td>5</td>\n",
       "      <td>{'installDate': '1278947280000', 'installed': ...</td>\n",
       "      <td>8</td>\n",
       "      <td>7f3020118e56165ed8b2f61899edb971</td>\n",
       "      <td>51.529163</td>\n",
       "      <td>-0.109971</td>\n",
       "      <td>001023 - River Street , Clerkenwell</td>\n",
       "      <td>2024-05-08T03:25:16.473000Z</td>\n",
       "    </tr>\n",
       "    <tr>\n",
       "      <th>1</th>\n",
       "      <td>25</td>\n",
       "      <td>{'installDate': '1278585780000', 'installed': ...</td>\n",
       "      <td>12</td>\n",
       "      <td>67e6c16bce05410ba4b1f0f5000726ea</td>\n",
       "      <td>51.499607</td>\n",
       "      <td>-0.197574</td>\n",
       "      <td>001018 - Phillimore Gardens, Kensington</td>\n",
       "      <td>2024-05-08T03:25:16.485000Z</td>\n",
       "    </tr>\n",
       "    <tr>\n",
       "      <th>2</th>\n",
       "      <td>11</td>\n",
       "      <td>{'installDate': '1278242460000', 'installed': ...</td>\n",
       "      <td>7</td>\n",
       "      <td>26184215d38089fcad213ef222e69780</td>\n",
       "      <td>51.505974</td>\n",
       "      <td>-0.092754</td>\n",
       "      <td>001024 - Park Street, Bankside</td>\n",
       "      <td>2024-05-08T03:25:16.497000Z</td>\n",
       "    </tr>\n",
       "    <tr>\n",
       "      <th>3</th>\n",
       "      <td>22</td>\n",
       "      <td>{'installDate': '1278340440000', 'installed': ...</td>\n",
       "      <td>1</td>\n",
       "      <td>1eabd7ac8e781befd03f52ef56a18aa7</td>\n",
       "      <td>51.523951</td>\n",
       "      <td>-0.122502</td>\n",
       "      <td>001022 - Brunswick Square, Bloomsbury</td>\n",
       "      <td>2024-05-08T03:25:16.498000Z</td>\n",
       "    </tr>\n",
       "    <tr>\n",
       "      <th>4</th>\n",
       "      <td>40</td>\n",
       "      <td>{'installDate': '1278340620000', 'installed': ...</td>\n",
       "      <td>7</td>\n",
       "      <td>23efb32f80a9dcd0e4f61fb44b353ce1</td>\n",
       "      <td>51.521681</td>\n",
       "      <td>-0.130432</td>\n",
       "      <td>000980 - Malet Street, Bloomsbury</td>\n",
       "      <td>2024-05-08T03:25:16.499000Z</td>\n",
       "    </tr>\n",
       "    <tr>\n",
       "      <th>...</th>\n",
       "      <td>...</td>\n",
       "      <td>...</td>\n",
       "      <td>...</td>\n",
       "      <td>...</td>\n",
       "      <td>...</td>\n",
       "      <td>...</td>\n",
       "      <td>...</td>\n",
       "      <td>...</td>\n",
       "    </tr>\n",
       "    <tr>\n",
       "      <th>785</th>\n",
       "      <td>6</td>\n",
       "      <td>{'installDate': '', 'installed': True, 'locked...</td>\n",
       "      <td>18</td>\n",
       "      <td>ccbe01fc953e48e3490729699f9071bf</td>\n",
       "      <td>51.481021</td>\n",
       "      <td>-0.209973</td>\n",
       "      <td>200098 - Aintree Street, Fulham</td>\n",
       "      <td>2024-05-08T03:25:18.314000Z</td>\n",
       "    </tr>\n",
       "    <tr>\n",
       "      <th>786</th>\n",
       "      <td>10</td>\n",
       "      <td>{'installDate': '1279376760000', 'installed': ...</td>\n",
       "      <td>6</td>\n",
       "      <td>af6e4ecfa983d291fcff608792659dbf</td>\n",
       "      <td>51.516518</td>\n",
       "      <td>-0.164394</td>\n",
       "      <td>001112 - Nutford Place, Marylebone</td>\n",
       "      <td>2024-05-08T03:25:17.020000Z</td>\n",
       "    </tr>\n",
       "    <tr>\n",
       "      <th>787</th>\n",
       "      <td>18</td>\n",
       "      <td>{'installDate': '1279885320000', 'installed': ...</td>\n",
       "      <td>0</td>\n",
       "      <td>2db775eff9ba5222e5c53580d025782b</td>\n",
       "      <td>51.510048</td>\n",
       "      <td>-0.138846</td>\n",
       "      <td>001197 - Sackville Street, Mayfair</td>\n",
       "      <td>2024-05-08T03:25:17.332000Z</td>\n",
       "    </tr>\n",
       "    <tr>\n",
       "      <th>788</th>\n",
       "      <td>1</td>\n",
       "      <td>{'installDate': '1384968480000', 'installed': ...</td>\n",
       "      <td>32</td>\n",
       "      <td>8ecc337dd1950c019e8d01e27c886e23</td>\n",
       "      <td>51.536425</td>\n",
       "      <td>-0.054162</td>\n",
       "      <td>300011 - Victoria Park Road, Hackney Central</td>\n",
       "      <td>2024-05-08T03:25:18.537000Z</td>\n",
       "    </tr>\n",
       "    <tr>\n",
       "      <th>789</th>\n",
       "      <td>21</td>\n",
       "      <td>{'installDate': '1296125400000', 'installed': ...</td>\n",
       "      <td>0</td>\n",
       "      <td>4199b8128833a99369bc72178ed8721b</td>\n",
       "      <td>51.506864</td>\n",
       "      <td>-0.150667</td>\n",
       "      <td>003506 - Stanhope Gate, Mayfair</td>\n",
       "      <td>2024-05-08T03:25:17.455000Z</td>\n",
       "    </tr>\n",
       "  </tbody>\n",
       "</table>\n",
       "<p>790 rows × 8 columns</p>\n",
       "</div>"
      ],
      "text/plain": [
       "     empty_slots                                              extra  \\\n",
       "0              5  {'installDate': '1278947280000', 'installed': ...   \n",
       "1             25  {'installDate': '1278585780000', 'installed': ...   \n",
       "2             11  {'installDate': '1278242460000', 'installed': ...   \n",
       "3             22  {'installDate': '1278340440000', 'installed': ...   \n",
       "4             40  {'installDate': '1278340620000', 'installed': ...   \n",
       "..           ...                                                ...   \n",
       "785            6  {'installDate': '', 'installed': True, 'locked...   \n",
       "786           10  {'installDate': '1279376760000', 'installed': ...   \n",
       "787           18  {'installDate': '1279885320000', 'installed': ...   \n",
       "788            1  {'installDate': '1384968480000', 'installed': ...   \n",
       "789           21  {'installDate': '1296125400000', 'installed': ...   \n",
       "\n",
       "     free_bikes                                id   latitude  longitude  \\\n",
       "0             8  7f3020118e56165ed8b2f61899edb971  51.529163  -0.109971   \n",
       "1            12  67e6c16bce05410ba4b1f0f5000726ea  51.499607  -0.197574   \n",
       "2             7  26184215d38089fcad213ef222e69780  51.505974  -0.092754   \n",
       "3             1  1eabd7ac8e781befd03f52ef56a18aa7  51.523951  -0.122502   \n",
       "4             7  23efb32f80a9dcd0e4f61fb44b353ce1  51.521681  -0.130432   \n",
       "..          ...                               ...        ...        ...   \n",
       "785          18  ccbe01fc953e48e3490729699f9071bf  51.481021  -0.209973   \n",
       "786           6  af6e4ecfa983d291fcff608792659dbf  51.516518  -0.164394   \n",
       "787           0  2db775eff9ba5222e5c53580d025782b  51.510048  -0.138846   \n",
       "788          32  8ecc337dd1950c019e8d01e27c886e23  51.536425  -0.054162   \n",
       "789           0  4199b8128833a99369bc72178ed8721b  51.506864  -0.150667   \n",
       "\n",
       "                                             name                    timestamp  \n",
       "0             001023 - River Street , Clerkenwell  2024-05-08T03:25:16.473000Z  \n",
       "1         001018 - Phillimore Gardens, Kensington  2024-05-08T03:25:16.485000Z  \n",
       "2                  001024 - Park Street, Bankside  2024-05-08T03:25:16.497000Z  \n",
       "3           001022 - Brunswick Square, Bloomsbury  2024-05-08T03:25:16.498000Z  \n",
       "4               000980 - Malet Street, Bloomsbury  2024-05-08T03:25:16.499000Z  \n",
       "..                                            ...                          ...  \n",
       "785               200098 - Aintree Street, Fulham  2024-05-08T03:25:18.314000Z  \n",
       "786            001112 - Nutford Place, Marylebone  2024-05-08T03:25:17.020000Z  \n",
       "787            001197 - Sackville Street, Mayfair  2024-05-08T03:25:17.332000Z  \n",
       "788  300011 - Victoria Park Road, Hackney Central  2024-05-08T03:25:18.537000Z  \n",
       "789               003506 - Stanhope Gate, Mayfair  2024-05-08T03:25:17.455000Z  \n",
       "\n",
       "[790 rows x 8 columns]"
      ]
     },
     "execution_count": 90,
     "metadata": {},
     "output_type": "execute_result"
    }
   ],
   "source": [
    "stations\n",
    "stationbikes = pd.DataFrame(stations)\n",
    "stationbikes"
   ]
  },
  {
   "cell_type": "code",
   "execution_count": 85,
   "metadata": {},
   "outputs": [],
   "source": [
    "#for future use, I will export stationbikes as excel\n"
   ]
  },
  {
   "cell_type": "code",
   "execution_count": 91,
   "metadata": {},
   "outputs": [],
   "source": [
    "citybiks= stationbikes.to_excel(\"stations.xlsx\", sheet_name=\"stations\")\n"
   ]
  },
  {
   "cell_type": "code",
   "execution_count": null,
   "metadata": {},
   "outputs": [],
   "source": []
  }
 ],
 "metadata": {
  "kernelspec": {
   "display_name": "Python 3 (ipykernel)",
   "language": "python",
   "name": "python3"
  },
  "language_info": {
   "codemirror_mode": {
    "name": "ipython",
    "version": 3
   },
   "file_extension": ".py",
   "mimetype": "text/x-python",
   "name": "python",
   "nbconvert_exporter": "python",
   "pygments_lexer": "ipython3",
   "version": "3.11.7"
  }
 },
 "nbformat": 4,
 "nbformat_minor": 4
}
